{
 "cells": [
  {
   "cell_type": "code",
   "execution_count": 2,
   "metadata": {
    "id": "QIPk7Zkplpcm"
   },
   "outputs": [],
   "source": [
    "import pandas as pd"
   ]
  },
  {
   "cell_type": "code",
   "execution_count": 3,
   "metadata": {
    "id": "Zp2WtMdblqtz"
   },
   "outputs": [],
   "source": [
    "df = pd.read_csv(r'recovery-news-data.csv')"
   ]
  },
  {
   "cell_type": "code",
   "execution_count": 4,
   "metadata": {
    "colab": {
     "base_uri": "https://localhost:8080/",
     "height": 1000
    },
    "id": "RMXDTCnNlvUR",
    "outputId": "725cbca6-a880-4938-a957-483ce1f183d0"
   },
   "outputs": [
    {
     "data": {
      "text/html": [
       "<div>\n",
       "<style scoped>\n",
       "    .dataframe tbody tr th:only-of-type {\n",
       "        vertical-align: middle;\n",
       "    }\n",
       "\n",
       "    .dataframe tbody tr th {\n",
       "        vertical-align: top;\n",
       "    }\n",
       "\n",
       "    .dataframe thead th {\n",
       "        text-align: right;\n",
       "    }\n",
       "</style>\n",
       "<table border=\"1\" class=\"dataframe\">\n",
       "  <thead>\n",
       "    <tr style=\"text-align: right;\">\n",
       "      <th></th>\n",
       "      <th>Unnamed: 0</th>\n",
       "      <th>news_id</th>\n",
       "      <th>url</th>\n",
       "      <th>publisher</th>\n",
       "      <th>publish_date</th>\n",
       "      <th>author</th>\n",
       "      <th>title</th>\n",
       "      <th>image</th>\n",
       "      <th>body_text</th>\n",
       "      <th>political_bias</th>\n",
       "      <th>country</th>\n",
       "      <th>reliability</th>\n",
       "    </tr>\n",
       "  </thead>\n",
       "  <tbody>\n",
       "    <tr>\n",
       "      <th>0</th>\n",
       "      <td>0</td>\n",
       "      <td>0</td>\n",
       "      <td>https://www.nytimes.com/article/what-is-corona...</td>\n",
       "      <td>The New York Times</td>\n",
       "      <td>2020-01-21</td>\n",
       "      <td>['Knvul Sheikh', 'Roni Caryn Rabin']</td>\n",
       "      <td>The Coronavirus: What Scientists Have Learned ...</td>\n",
       "      <td>https://static01.nyt.com/images/2020/03/12/sci...</td>\n",
       "      <td>\\nA novel respiratory virus that originated in...</td>\n",
       "      <td>Left</td>\n",
       "      <td>USA</td>\n",
       "      <td>1</td>\n",
       "    </tr>\n",
       "    <tr>\n",
       "      <th>1</th>\n",
       "      <td>1</td>\n",
       "      <td>1</td>\n",
       "      <td>https://www.npr.org/2020/01/22/798392172/chine...</td>\n",
       "      <td>National Public Radio (NPR)</td>\n",
       "      <td>2020-01-22</td>\n",
       "      <td>['Emily Feng']</td>\n",
       "      <td>Chinese Health Officials: More Die From Newly ...</td>\n",
       "      <td>https://media.npr.org/include/images/facebook-...</td>\n",
       "      <td>Chinese Health Officials: More Die From Newly ...</td>\n",
       "      <td>Center</td>\n",
       "      <td>USA</td>\n",
       "      <td>1</td>\n",
       "    </tr>\n",
       "    <tr>\n",
       "      <th>2</th>\n",
       "      <td>2</td>\n",
       "      <td>2</td>\n",
       "      <td>https://www.theverge.com/2020/1/23/21078457/co...</td>\n",
       "      <td>The Verge</td>\n",
       "      <td>2020-01-23</td>\n",
       "      <td>['Nicole Wetsman']</td>\n",
       "      <td>Everything you need to know about the coronavirus</td>\n",
       "      <td>https://cdn.vox-cdn.com/thumbor/a9_Oz7cvSBKyal...</td>\n",
       "      <td>Public health experts around the globe are scr...</td>\n",
       "      <td>Left-center</td>\n",
       "      <td>USA</td>\n",
       "      <td>1</td>\n",
       "    </tr>\n",
       "    <tr>\n",
       "      <th>3</th>\n",
       "      <td>3</td>\n",
       "      <td>3</td>\n",
       "      <td>https://www.worldhealth.net/news/novel-coronav...</td>\n",
       "      <td>WorldHealth.Net</td>\n",
       "      <td>2020-01-24</td>\n",
       "      <td>[]</td>\n",
       "      <td>Novel Coronavirus Cases Confirmed To Be Spreading</td>\n",
       "      <td>https://www.worldhealth.net/media/original_ima...</td>\n",
       "      <td>The first two coronavirus cases in Europe have...</td>\n",
       "      <td>NaN</td>\n",
       "      <td>USA</td>\n",
       "      <td>0</td>\n",
       "    </tr>\n",
       "    <tr>\n",
       "      <th>4</th>\n",
       "      <td>4</td>\n",
       "      <td>4</td>\n",
       "      <td>https://www.theverge.com/2020/1/24/21080845/co...</td>\n",
       "      <td>The Verge</td>\n",
       "      <td>2020-01-24</td>\n",
       "      <td>['Nicole Wetsman', 'Zoe Schiffer', 'Jay Peters...</td>\n",
       "      <td>Coronavirus disrupts the world: updates on the...</td>\n",
       "      <td>https://cdn.vox-cdn.com/thumbor/t2gt1SmEni4Mcr...</td>\n",
       "      <td>A new coronavirus appeared in Wuhan, China, at...</td>\n",
       "      <td>Left-center</td>\n",
       "      <td>USA</td>\n",
       "      <td>1</td>\n",
       "    </tr>\n",
       "    <tr>\n",
       "      <th>...</th>\n",
       "      <td>...</td>\n",
       "      <td>...</td>\n",
       "      <td>...</td>\n",
       "      <td>...</td>\n",
       "      <td>...</td>\n",
       "      <td>...</td>\n",
       "      <td>...</td>\n",
       "      <td>...</td>\n",
       "      <td>...</td>\n",
       "      <td>...</td>\n",
       "      <td>...</td>\n",
       "      <td>...</td>\n",
       "    </tr>\n",
       "    <tr>\n",
       "      <th>2024</th>\n",
       "      <td>2024</td>\n",
       "      <td>2024</td>\n",
       "      <td>https://www.msn.com/en-us/news/us/white-house-...</td>\n",
       "      <td>Drudge Report</td>\n",
       "      <td>NaN</td>\n",
       "      <td>['Alex Wigglesworth', 'Luke Money', 'Noah Bier...</td>\n",
       "      <td>White House concerned with coronavirus spread ...</td>\n",
       "      <td>https://img-s-msn-com.akamaized.net/tenant/amp...</td>\n",
       "      <td>© Robert Gauthier/Los Angeles Times/TNS People...</td>\n",
       "      <td>Right</td>\n",
       "      <td>USA</td>\n",
       "      <td>0</td>\n",
       "    </tr>\n",
       "    <tr>\n",
       "      <th>2025</th>\n",
       "      <td>2025</td>\n",
       "      <td>2025</td>\n",
       "      <td>https://www.vanityfair.com/news/2020/05/after-...</td>\n",
       "      <td>Drudge Report</td>\n",
       "      <td>NaN</td>\n",
       "      <td>['Tom Kludt']</td>\n",
       "      <td>“There Will Be No Election If Things Keep Goin...</td>\n",
       "      <td>https://media.vanityfair.com/photos/5ec6bdc5ca...</td>\n",
       "      <td>Michael Moore, for decades on the political fr...</td>\n",
       "      <td>Right</td>\n",
       "      <td>USA</td>\n",
       "      <td>0</td>\n",
       "    </tr>\n",
       "    <tr>\n",
       "      <th>2026</th>\n",
       "      <td>2026</td>\n",
       "      <td>2026</td>\n",
       "      <td>https://www.msn.com/en-us/news/politics/want-t...</td>\n",
       "      <td>Drudge Report</td>\n",
       "      <td>NaN</td>\n",
       "      <td>['Jonathan Lai']</td>\n",
       "      <td>Want to know who won the presidential race on ...</td>\n",
       "      <td>https://img-s-msn-com.akamaized.net/tenant/amp...</td>\n",
       "      <td>© HEATHER KHALIFA/The Philadelphia Inquirer/TN...</td>\n",
       "      <td>Right</td>\n",
       "      <td>USA</td>\n",
       "      <td>0</td>\n",
       "    </tr>\n",
       "    <tr>\n",
       "      <th>2027</th>\n",
       "      <td>2027</td>\n",
       "      <td>2027</td>\n",
       "      <td>https://www.fox5ny.com/news/nearly-half-of-twi...</td>\n",
       "      <td>Drudge Report</td>\n",
       "      <td>NaN</td>\n",
       "      <td>['Kelly Taylor Hayes']</td>\n",
       "      <td>Nearly half of Twitter accounts discussing cor...</td>\n",
       "      <td>https://images.foxtv.com/static.fox5ny.com/www...</td>\n",
       "      <td>Nearly half of the Twitter accounts sharing in...</td>\n",
       "      <td>Right</td>\n",
       "      <td>USA</td>\n",
       "      <td>0</td>\n",
       "    </tr>\n",
       "    <tr>\n",
       "      <th>2028</th>\n",
       "      <td>2028</td>\n",
       "      <td>2028</td>\n",
       "      <td>http://explorers.collective-evolution.com/part...</td>\n",
       "      <td>Collective Evolution</td>\n",
       "      <td>NaN</td>\n",
       "      <td>[]</td>\n",
       "      <td>NaN</td>\n",
       "      <td>NaN</td>\n",
       "      <td>In Brief The Facts: Major events have a lastin...</td>\n",
       "      <td>Right</td>\n",
       "      <td>USA</td>\n",
       "      <td>0</td>\n",
       "    </tr>\n",
       "  </tbody>\n",
       "</table>\n",
       "<p>2029 rows × 12 columns</p>\n",
       "</div>"
      ],
      "text/plain": [
       "      Unnamed: 0  news_id                                                url  \\\n",
       "0              0        0  https://www.nytimes.com/article/what-is-corona...   \n",
       "1              1        1  https://www.npr.org/2020/01/22/798392172/chine...   \n",
       "2              2        2  https://www.theverge.com/2020/1/23/21078457/co...   \n",
       "3              3        3  https://www.worldhealth.net/news/novel-coronav...   \n",
       "4              4        4  https://www.theverge.com/2020/1/24/21080845/co...   \n",
       "...          ...      ...                                                ...   \n",
       "2024        2024     2024  https://www.msn.com/en-us/news/us/white-house-...   \n",
       "2025        2025     2025  https://www.vanityfair.com/news/2020/05/after-...   \n",
       "2026        2026     2026  https://www.msn.com/en-us/news/politics/want-t...   \n",
       "2027        2027     2027  https://www.fox5ny.com/news/nearly-half-of-twi...   \n",
       "2028        2028     2028  http://explorers.collective-evolution.com/part...   \n",
       "\n",
       "                        publisher publish_date  \\\n",
       "0              The New York Times   2020-01-21   \n",
       "1     National Public Radio (NPR)   2020-01-22   \n",
       "2                       The Verge   2020-01-23   \n",
       "3                 WorldHealth.Net   2020-01-24   \n",
       "4                       The Verge   2020-01-24   \n",
       "...                           ...          ...   \n",
       "2024                Drudge Report          NaN   \n",
       "2025                Drudge Report          NaN   \n",
       "2026                Drudge Report          NaN   \n",
       "2027                Drudge Report          NaN   \n",
       "2028         Collective Evolution          NaN   \n",
       "\n",
       "                                                 author  \\\n",
       "0                  ['Knvul Sheikh', 'Roni Caryn Rabin']   \n",
       "1                                        ['Emily Feng']   \n",
       "2                                    ['Nicole Wetsman']   \n",
       "3                                                    []   \n",
       "4     ['Nicole Wetsman', 'Zoe Schiffer', 'Jay Peters...   \n",
       "...                                                 ...   \n",
       "2024  ['Alex Wigglesworth', 'Luke Money', 'Noah Bier...   \n",
       "2025                                      ['Tom Kludt']   \n",
       "2026                                   ['Jonathan Lai']   \n",
       "2027                             ['Kelly Taylor Hayes']   \n",
       "2028                                                 []   \n",
       "\n",
       "                                                  title  \\\n",
       "0     The Coronavirus: What Scientists Have Learned ...   \n",
       "1     Chinese Health Officials: More Die From Newly ...   \n",
       "2     Everything you need to know about the coronavirus   \n",
       "3     Novel Coronavirus Cases Confirmed To Be Spreading   \n",
       "4     Coronavirus disrupts the world: updates on the...   \n",
       "...                                                 ...   \n",
       "2024  White House concerned with coronavirus spread ...   \n",
       "2025  “There Will Be No Election If Things Keep Goin...   \n",
       "2026  Want to know who won the presidential race on ...   \n",
       "2027  Nearly half of Twitter accounts discussing cor...   \n",
       "2028                                                NaN   \n",
       "\n",
       "                                                  image  \\\n",
       "0     https://static01.nyt.com/images/2020/03/12/sci...   \n",
       "1     https://media.npr.org/include/images/facebook-...   \n",
       "2     https://cdn.vox-cdn.com/thumbor/a9_Oz7cvSBKyal...   \n",
       "3     https://www.worldhealth.net/media/original_ima...   \n",
       "4     https://cdn.vox-cdn.com/thumbor/t2gt1SmEni4Mcr...   \n",
       "...                                                 ...   \n",
       "2024  https://img-s-msn-com.akamaized.net/tenant/amp...   \n",
       "2025  https://media.vanityfair.com/photos/5ec6bdc5ca...   \n",
       "2026  https://img-s-msn-com.akamaized.net/tenant/amp...   \n",
       "2027  https://images.foxtv.com/static.fox5ny.com/www...   \n",
       "2028                                                NaN   \n",
       "\n",
       "                                              body_text political_bias  \\\n",
       "0     \\nA novel respiratory virus that originated in...           Left   \n",
       "1     Chinese Health Officials: More Die From Newly ...         Center   \n",
       "2     Public health experts around the globe are scr...    Left-center   \n",
       "3     The first two coronavirus cases in Europe have...            NaN   \n",
       "4     A new coronavirus appeared in Wuhan, China, at...    Left-center   \n",
       "...                                                 ...            ...   \n",
       "2024  © Robert Gauthier/Los Angeles Times/TNS People...          Right   \n",
       "2025  Michael Moore, for decades on the political fr...          Right   \n",
       "2026  © HEATHER KHALIFA/The Philadelphia Inquirer/TN...          Right   \n",
       "2027  Nearly half of the Twitter accounts sharing in...          Right   \n",
       "2028  In Brief The Facts: Major events have a lastin...          Right   \n",
       "\n",
       "     country  reliability  \n",
       "0        USA            1  \n",
       "1        USA            1  \n",
       "2        USA            1  \n",
       "3        USA            0  \n",
       "4        USA            1  \n",
       "...      ...          ...  \n",
       "2024     USA            0  \n",
       "2025     USA            0  \n",
       "2026     USA            0  \n",
       "2027     USA            0  \n",
       "2028     USA            0  \n",
       "\n",
       "[2029 rows x 12 columns]"
      ]
     },
     "execution_count": 4,
     "metadata": {},
     "output_type": "execute_result"
    }
   ],
   "source": [
    "df"
   ]
  },
  {
   "cell_type": "markdown",
   "metadata": {
    "id": "cpIKzx0SovKY"
   },
   "source": [
    "## Creating TF-IDF Vectors"
   ]
  },
  {
   "cell_type": "code",
   "execution_count": 5,
   "metadata": {
    "id": "fAy9K9rMlwG6"
   },
   "outputs": [],
   "source": [
    "df['alltext'] = df.title + \" \" + df.publisher +\" \" + df.author + \" \" + df.body_text + \" \" + df.political_bias + \" \" + df.country"
   ]
  },
  {
   "cell_type": "code",
   "execution_count": 6,
   "metadata": {
    "id": "_QE4beeNmCLS"
   },
   "outputs": [],
   "source": [
    "df = df[df['alltext'].notna()]"
   ]
  },
  {
   "cell_type": "code",
   "execution_count": 7,
   "metadata": {
    "colab": {
     "base_uri": "https://localhost:8080/"
    },
    "id": "BqVggF88mnYr",
    "outputId": "950f8339-c41c-4ed6-fdaa-2caf742ae6c7"
   },
   "outputs": [
    {
     "name": "stderr",
     "output_type": "stream",
     "text": [
      "/var/folders/k1/xctl4xwd0fddxw_jd2qy50240000gn/T/ipykernel_31940/3315890710.py:1: SettingWithCopyWarning: \n",
      "A value is trying to be set on a copy of a slice from a DataFrame.\n",
      "Try using .loc[row_indexer,col_indexer] = value instead\n",
      "\n",
      "See the caveats in the documentation: https://pandas.pydata.org/pandas-docs/stable/user_guide/indexing.html#returning-a-view-versus-a-copy\n",
      "  df['alltext'] = df['alltext'].str.lower()\n"
     ]
    }
   ],
   "source": [
    "df['alltext'] = df['alltext'].str.lower()"
   ]
  },
  {
   "cell_type": "code",
   "execution_count": 8,
   "metadata": {
    "colab": {
     "base_uri": "https://localhost:8080/"
    },
    "id": "EUiYuV2smqIK",
    "outputId": "7f56073c-3ad6-4f1c-87d6-9b256e63128f"
   },
   "outputs": [
    {
     "data": {
      "text/plain": [
       "0       the coronavirus: what scientists have learned ...\n",
       "1       chinese health officials: more die from newly ...\n",
       "2       everything you need to know about the coronavi...\n",
       "4       coronavirus disrupts the world: updates on the...\n",
       "5       china reports 25 coronavirus deaths; us prepar...\n",
       "                              ...                        \n",
       "2023    undercover agents enforcing state health rules...\n",
       "2024    white house concerned with coronavirus spread ...\n",
       "2025    “there will be no election if things keep goin...\n",
       "2026    want to know who won the presidential race on ...\n",
       "2027    nearly half of twitter accounts discussing cor...\n",
       "Name: alltext, Length: 1814, dtype: object"
      ]
     },
     "execution_count": 8,
     "metadata": {},
     "output_type": "execute_result"
    }
   ],
   "source": [
    "df['alltext']"
   ]
  },
  {
   "cell_type": "code",
   "execution_count": 9,
   "metadata": {
    "id": "dE0Z6IEcnClL"
   },
   "outputs": [],
   "source": [
    "from sklearn.feature_extraction.text import TfidfVectorizer\n",
    "vectorizer = TfidfVectorizer()"
   ]
  },
  {
   "cell_type": "code",
   "execution_count": 10,
   "metadata": {
    "id": "KHKk3kG4nPbP"
   },
   "outputs": [],
   "source": [
    "X = vectorizer.fit_transform(df['alltext'])\n",
    "y = df['reliability']"
   ]
  },
  {
   "cell_type": "code",
   "execution_count": 13,
   "metadata": {},
   "outputs": [
    {
     "name": "stdout",
     "output_type": "stream",
     "text": [
      "  (0, 39495)\t0.004889098745634373\n",
      "  (0, 21809)\t0.006093680556318002\n",
      "  (0, 29324)\t0.012431103503327576\n",
      "  (0, 34919)\t0.011112967212331022\n",
      "  (0, 23918)\t0.017366969684288178\n",
      "  (0, 11676)\t0.016827392639165387\n",
      "  (0, 33127)\t0.020382096029296314\n",
      "  (0, 21377)\t0.017728515751219035\n",
      "  (0, 21181)\t0.01992664237110228\n",
      "  (0, 17978)\t0.01992664237110228\n",
      "  (0, 17383)\t0.013293337234622395\n",
      "  (0, 28699)\t0.03032339071501227\n",
      "  (0, 21906)\t0.03032339071501227\n",
      "  (0, 28622)\t0.011647256469679115\n",
      "  (0, 33375)\t0.013963851160394227\n",
      "  (0, 10296)\t0.014953661013173044\n",
      "  (0, 10233)\t0.016727512997722502\n",
      "  (0, 39395)\t0.016131679481354043\n",
      "  (0, 8398)\t0.023732964109420347\n",
      "  (0, 12549)\t0.02063034550663634\n",
      "  (0, 6636)\t0.013791669423704389\n",
      "  (0, 36817)\t0.014890173504487387\n",
      "  (0, 36005)\t0.020035845170251556\n",
      "  (0, 21556)\t0.015183954914579604\n",
      "  (0, 10745)\t0.018642257863347667\n",
      "  :\t:\n",
      "  (1813, 26666)\t0.09089869644194822\n",
      "  (1813, 39855)\t0.013537112536455417\n",
      "  (1813, 23531)\t0.02863685838821235\n",
      "  (1813, 23153)\t0.010109823966052336\n",
      "  (1813, 18888)\t0.012596390142624819\n",
      "  (1813, 1602)\t0.051427782431978465\n",
      "  (1813, 24987)\t0.01276162222821938\n",
      "  (1813, 6342)\t0.028631037899660976\n",
      "  (1813, 40409)\t0.016422624227886214\n",
      "  (1813, 2846)\t0.1372882189980359\n",
      "  (1813, 27822)\t0.01719278324468023\n",
      "  (1813, 1)\t0.012054884614286275\n",
      "  (1813, 3664)\t0.04886624409178765\n",
      "  (1813, 4628)\t0.008136153211909927\n",
      "  (1813, 37602)\t0.01818785332913977\n",
      "  (1813, 26378)\t0.11850178844071708\n",
      "  (1813, 37845)\t0.15575168088061578\n",
      "  (1813, 17273)\t0.007185731694029345\n",
      "  (1813, 18809)\t0.04375487983238484\n",
      "  (1813, 37441)\t0.06608691700013229\n",
      "  (1813, 26064)\t0.018968075089312485\n",
      "  (1813, 37780)\t0.011967617875735869\n",
      "  (1813, 17330)\t0.0070471166059759335\n",
      "  (1813, 9179)\t0.034653615131864615\n",
      "  (1813, 37446)\t0.1861825660274255\n"
     ]
    }
   ],
   "source": [
    "print(X)"
   ]
  },
  {
   "cell_type": "markdown",
   "metadata": {
    "id": "lZm8RNlAo8SG"
   },
   "source": [
    "## Split into Train and Test"
   ]
  },
  {
   "cell_type": "code",
   "execution_count": 14,
   "metadata": {
    "id": "kPJ73Z0xnobY"
   },
   "outputs": [],
   "source": [
    "from sklearn.model_selection import train_test_split\n",
    "X_train, X_test, y_train, y_test = train_test_split(X, y, test_size=0.33, random_state=42)"
   ]
  },
  {
   "cell_type": "markdown",
   "metadata": {
    "id": "KtQzkPRMpC44"
   },
   "source": [
    "## Random Forest Classifier"
   ]
  },
  {
   "cell_type": "code",
   "execution_count": 15,
   "metadata": {
    "id": "aHP08Tu2nVKB"
   },
   "outputs": [],
   "source": [
    "from sklearn.ensemble import RandomForestClassifier\n",
    "clf = RandomForestClassifier(max_depth=2, random_state=0)"
   ]
  },
  {
   "cell_type": "code",
   "execution_count": 16,
   "metadata": {
    "id": "LcumBREjnvpL"
   },
   "outputs": [],
   "source": [
    "clf.fit(X_train, y_train)\n",
    "pred = clf.predict(X_test)"
   ]
  },
  {
   "cell_type": "code",
   "execution_count": 17,
   "metadata": {
    "colab": {
     "base_uri": "https://localhost:8080/"
    },
    "id": "WqU9GM7Knzkv",
    "outputId": "f3e9c65f-5065-48f2-df85-55852fd7bd9f"
   },
   "outputs": [
    {
     "data": {
      "text/plain": [
       "0.7562604340567612"
      ]
     },
     "execution_count": 17,
     "metadata": {},
     "output_type": "execute_result"
    }
   ],
   "source": [
    "from sklearn.metrics import accuracy_score\n",
    "accuracy_score(pred, y_test)"
   ]
  },
  {
   "cell_type": "markdown",
   "metadata": {
    "id": "DfULdMqqpGHz"
   },
   "source": [
    "## Logistic Regression"
   ]
  },
  {
   "cell_type": "code",
   "execution_count": 18,
   "metadata": {
    "id": "mpf7ulVboSyw"
   },
   "outputs": [],
   "source": [
    "from sklearn.linear_model import LogisticRegression\n",
    "clf_2 = LogisticRegression(random_state = 0)"
   ]
  },
  {
   "cell_type": "code",
   "execution_count": 19,
   "metadata": {
    "id": "MtDNDg9Loio3"
   },
   "outputs": [],
   "source": [
    "clf_2.fit(X_train, y_train)\n",
    "pred_2 = clf_2.predict(X_test)"
   ]
  },
  {
   "cell_type": "code",
   "execution_count": 20,
   "metadata": {
    "colab": {
     "base_uri": "https://localhost:8080/"
    },
    "id": "H32hk6weom09",
    "outputId": "bcac3696-607c-47c9-bfd0-d2e9c1235ddd"
   },
   "outputs": [
    {
     "data": {
      "text/plain": [
       "0.8046744574290484"
      ]
     },
     "execution_count": 20,
     "metadata": {},
     "output_type": "execute_result"
    }
   ],
   "source": [
    "accuracy_score(pred_2, y_test)"
   ]
  },
  {
   "cell_type": "code",
   "execution_count": null,
   "metadata": {},
   "outputs": [],
   "source": []
  }
 ],
 "metadata": {
  "colab": {
   "provenance": []
  },
  "kernelspec": {
   "display_name": "Python 3 (ipykernel)",
   "language": "python",
   "name": "python3"
  },
  "language_info": {
   "codemirror_mode": {
    "name": "ipython",
    "version": 3
   },
   "file_extension": ".py",
   "mimetype": "text/x-python",
   "name": "python",
   "nbconvert_exporter": "python",
   "pygments_lexer": "ipython3",
   "version": "3.10.0"
  }
 },
 "nbformat": 4,
 "nbformat_minor": 1
}
